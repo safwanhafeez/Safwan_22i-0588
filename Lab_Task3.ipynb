{
  "cells": [
    {
      "cell_type": "markdown",
      "metadata": {
        "id": "yZUfT3i7CjcU"
      },
      "source": [
        "# Lab Task 01"
      ]
    },
    {
      "cell_type": "markdown",
      "metadata": {
        "id": "cFvXKV7FCd5E"
      },
      "source": [
        "Write a function to return True if the first and last number of a given list is same. If numbers are different then return False."
      ]
    },
    {
      "cell_type": "code",
      "execution_count": 2,
      "metadata": {
        "id": "GXktR4r5Coyi"
      },
      "outputs": [
        {
          "name": "stdout",
          "output_type": "stream",
          "text": [
            "True\n",
            "False\n"
          ]
        }
      ],
      "source": [
        "import numpy as np\n",
        "\n",
        "# Given:\n",
        "numbers_x = [10, 20, 30, 40, 10]\n",
        "numbers_y = [75, 65, 35, 75, 30]\n",
        "\n",
        "# Expected Output:\n",
        "# Given list: [10, 20, 30, 40, 10]\n",
        "# result is True\n",
        "\n",
        "# numbers_y = [75, 65, 35, 75, 30]\n",
        "# result is False\n",
        "\n",
        "\n",
        "def Func(arr):\n",
        "    return arr[0] == arr[(len(arr) - 1)]\n",
        "\n",
        "print(Func(numbers_x))\n",
        "print(Func(numbers_y))"
      ]
    },
    {
      "cell_type": "markdown",
      "metadata": {
        "id": "UwFZ7OjICrlQ"
      },
      "source": [
        "\n",
        "\n",
        "\n",
        "\n",
        "# Lab Task 02"
      ]
    },
    {
      "cell_type": "markdown",
      "metadata": {
        "id": "GWQ2AhPcCufC"
      },
      "source": [
        "Create two NumPy arrays of the same shape and perform element-wise addition on them.\n",
        "\n",
        "Calculate the element-wise product of two NumPy arrays."
      ]
    },
    {
      "cell_type": "code",
      "execution_count": 19,
      "metadata": {
        "id": "jZNfvManCxjQ"
      },
      "outputs": [
        {
          "data": {
            "text/plain": [
              "array([[ 9, 11, 13],\n",
              "       [15, 17, 19],\n",
              "       [21, 23, 25]])"
            ]
          },
          "execution_count": 19,
          "metadata": {},
          "output_type": "execute_result"
        }
      ],
      "source": [
        "#code here\n",
        "\n",
        "one = np.arange(0, 9)\n",
        "one = one.reshape(3, 3)\n",
        "\n",
        "two = np.arange(9, 18)\n",
        "two = two.reshape(3, 3)\n",
        "\n",
        "final  = one + two\n",
        "\n",
        "final"
      ]
    },
    {
      "cell_type": "markdown",
      "metadata": {
        "id": "DR3RvooloecS"
      },
      "source": [
        "# Lab Task 03"
      ]
    },
    {
      "cell_type": "markdown",
      "metadata": {
        "id": "Oi-yFvItoWzc"
      },
      "source": [
        "Reshape a 1D NumPy array into a 2D array with dimensions (3, 4).\n",
        "\n",
        "Concatenate two NumPy arrays horizontally and vertically."
      ]
    },
    {
      "cell_type": "code",
      "execution_count": 26,
      "metadata": {
        "id": "c379PMYOobDK"
      },
      "outputs": [
        {
          "name": "stdout",
          "output_type": "stream",
          "text": [
            "[[ 0  1  2  3]\n",
            " [ 4  5  6  7]\n",
            " [ 8  9 10 11]]\n",
            "[[ 1  2  3]\n",
            " [ 4  5  6]\n",
            " [ 7  8  9]\n",
            " [10 11 12]]\n",
            "[[ 1  2  3  7  8  9]\n",
            " [ 4  5  6 10 11 12]]\n"
          ]
        }
      ],
      "source": [
        "#code here\n",
        "\n",
        "arr = np.arange(0,12)\n",
        "arr = arr.reshape(3, 4)\n",
        "\n",
        "print(arr)\n",
        "\n",
        "A = np.array([[1, 2, 3], [4, 5, 6]])\n",
        "B = np.array([[7, 8, 9], [10, 11, 12]])\n",
        "\n",
        "final = np.concatenate((A, B), axis = 0)\n",
        "print(final)\n",
        "\n",
        "final = np.concatenate((A, B), axis = 1)\n",
        "print(final)"
      ]
    },
    {
      "cell_type": "markdown",
      "metadata": {
        "id": "QyAHL3cppQvA"
      },
      "source": [
        "# Lab Task 04\n",
        "\n"
      ]
    },
    {
      "cell_type": "markdown",
      "metadata": {
        "id": "n9ljQa5NopJD"
      },
      "source": [
        "\n",
        "## Online Store Shopping Cart\n",
        "Write a Python program to simulate the online store's shopping cart system. The program should use a while loop to provide an interactive shopping experience.\n",
        "\n",
        "\n",
        "### Tasks:\n",
        "* Initialize an empty list called shopping_cart to store items.\n",
        "* Display a welcome message and available products.\n",
        "* Loop should be iterating over AI Response Simulator and Investment decision and keep asking for user input.\n",
        "* Prompt the user to enter the number corresponding to the product they want to add to the cart.\n",
        "* Check if the user entered 'q'. If so, break the loop.\n",
        "* Convert the choice to an integer and validate it within the valid range (1 to 3).\n",
        "* Based on the user's choice, add the selected product to the shopping_cart list.\n",
        "* Display a confirmation message indicating the added product.\n",
        "* Continue the loop to allow the user to add more products or proceed to checkout.\n",
        "* After the loop ends, display the contents of the shopping cart.\n",
        "* Display a goodbye message.\n",
        "* End the program.\n"
      ]
    },
    {
      "cell_type": "code",
      "execution_count": 33,
      "metadata": {
        "id": "9huwf9wVpWFf"
      },
      "outputs": [
        {
          "name": "stdout",
          "output_type": "stream",
          "text": [
            "Welcome to the Online Store!\n",
            "Available products:\n",
            "1: Laptop\n",
            "2: Headphones\n",
            "3: Mouse\n",
            "Laptop added to the cart.\n",
            "Headphones added to the cart.\n",
            "Mouse added to the cart.\n",
            "Please enter a valid product number.\n",
            "Headphones added to the cart.\n",
            "Laptop added to the cart.\n",
            "Mouse added to the cart.\n",
            "Please enter a valid product number.\n",
            "\n",
            "Your Shopping Cart:\n",
            "- 2 Laptop(s)\n",
            "- 2 Headphones(s)\n",
            "- 2 Mouse(s)\n",
            "Thank you for shopping with us. Goodbye!\n"
          ]
        }
      ],
      "source": [
        "products = {\n",
        "    1: 'Laptop',\n",
        "    2: 'Headphones',\n",
        "    3: 'Mouse'\n",
        "}\n",
        "shopping_cart = {}\n",
        "\n",
        "print('Welcome to the Online Store!')\n",
        "print('Available products:')\n",
        "for key, value in products.items():\n",
        "    print(f'{key}: {value}')\n",
        "\n",
        "while True:\n",
        "    choice = input(\"Enter the number corresponding to the product (press 'q' to quit): \")\n",
        "\n",
        "    if choice.lower() == 'q':\n",
        "        break\n",
        "\n",
        "    try:\n",
        "        choice = int(choice)\n",
        "        if choice not in products:\n",
        "            print('Please enter a valid product number.')\n",
        "            continue\n",
        "        product_name = products[choice]\n",
        "        \n",
        "        if product_name in shopping_cart:\n",
        "            shopping_cart[product_name] += 1\n",
        "        else:\n",
        "            shopping_cart[product_name] = 1\n",
        "\n",
        "        print(f'{product_name} added to the cart.')\n",
        "\n",
        "    except ValueError:\n",
        "        print('Please enter a valid product number.')\n",
        "\n",
        "print('\\nYour Shopping Cart:')\n",
        "for product, quantity in shopping_cart.items():\n",
        "    print(f'- {quantity} {product}(s)')\n",
        "\n",
        "print('Thank you for shopping with us. Goodbye!')\n"
      ]
    },
    {
      "cell_type": "markdown",
      "metadata": {
        "id": "Dv9DtQ3jp6mq"
      },
      "source": [
        "# Lab Task 05"
      ]
    },
    {
      "cell_type": "markdown",
      "metadata": {
        "id": "2i6-zm_1ZAdn"
      },
      "source": [
        "\n",
        "## Email Classification\n",
        "Develope a tool which will classify an email.\n",
        "\n",
        "### Tasks:\n",
        "* Create a function classify_emails that takes a list of emails as an argument.\n",
        "* Inside the function, categorize emails into \"Important,\" \"Promotions,\" and \"Spam\" based on keywords and content analysis.\n",
        "* Loop through the emails and identify keywords to determine their category.\n",
        "* If an email contains keywords indicating importance, assign it as \"Important.\"\n",
        "* If an email contains keywords related to promotions or deals, assign it as \"Promotions.\"\n",
        "* If an email is suspected to be spam based on certain keywords or patterns, assign it as \"Spam.\"\n",
        "* Return three lists of emails for each category.\n",
        "* Print the lists."
      ]
    },
    {
      "cell_type": "code",
      "execution_count": 35,
      "metadata": {
        "id": "SnCGPkq-o84Z"
      },
      "outputs": [
        {
          "name": "stdout",
          "output_type": "stream",
          "text": [
            "Important Emails:\n",
            "URGENT: Do the Dishes\n",
            "Important message: Please read\n",
            "\n",
            "Promotions Emails:\n",
            "Check out our latest sale!\n",
            "Special offer: Buy one get one free\n",
            "\n",
            "Spam Emails:\n",
            "Congratulations! You've won a lottery!\n",
            "aoa bol news department se shazir bolrha hu\n"
          ]
        }
      ],
      "source": [
        "#code here\n",
        "def classify_emails(emails):\n",
        "    imp = ['urgent', 'important', 'action required']\n",
        "    promo = ['sale', 'discount', 'promotion', 'offer']\n",
        "    spam = ['lottery', 'bol news department']\n",
        "\n",
        "    temp_imp = []\n",
        "    temp_promo = []\n",
        "    temp_spam = []\n",
        "\n",
        "    for i in emails:\n",
        "        if any(keyword in i.lower() for keyword in imp):\n",
        "            temp_imp.append(i)\n",
        "        elif any(keyword in i.lower() for keyword in promo):\n",
        "            temp_promo.append(i)\n",
        "        elif any(keyword in i.lower() for keyword in spam):\n",
        "            temp_spam.append(i)\n",
        "\n",
        "    return temp_imp, temp_promo, temp_spam\n",
        "\n",
        "emails = [\n",
        "    'URGENT: Do the Dishes',\n",
        "    'Check out our latest sale!',\n",
        "    'Congratulations! You\\'ve won a lottery!',\n",
        "    'Important message: Please read',\n",
        "    'Special offer: Buy one get one free',\n",
        "    'aoa bol news department se shazir bolrha hu'\n",
        "]\n",
        "\n",
        "important, promotions, spam = classify_emails(emails)\n",
        "\n",
        "print(\"Important Emails:\")\n",
        "print('\\n'.join(important))\n",
        "print(\"\\nPromotions Emails:\")\n",
        "print('\\n'.join(promotions))\n",
        "print(\"\\nSpam Emails:\")\n",
        "print('\\n'.join(spam))\n",
        "\n"
      ]
    },
    {
      "cell_type": "markdown",
      "metadata": {
        "id": "amtV-GLWpCC7"
      },
      "source": [
        "# Lab Task 06"
      ]
    },
    {
      "cell_type": "markdown",
      "metadata": {
        "id": "M2Zg-XsUpC72"
      },
      "source": [
        "## English-Spanish Dictionary\n",
        "You are creating a basic English-Spanish dictionary that allows users to look up English words and find their Spanish translations.\n",
        "\n",
        "\n",
        "### Tasks\n",
        "* Create a dictionary where English words are keys and their Spanish translations are values.\n",
        "* Ask the user to input an English word.\n",
        "* Check if the word exists in the dictionary.\n",
        "* If the word exists, print its Spanish translation.\n",
        "* If the word does not exist, inform the user that the translation is not available.\n",
        "* Implement a loop that allows the user to keep looking up words until they choose to exit.\n"
      ]
    },
    {
      "cell_type": "code",
      "execution_count": 36,
      "metadata": {
        "id": "7RKtYbMZpJdh"
      },
      "outputs": [
        {
          "name": "stdout",
          "output_type": "stream",
          "text": [
            "The Spanish translation of 'hello i am feeling thank you' is 'Translation not available.'.\n",
            "\n",
            "The Spanish translation of 'yes' is 'sí'.\n",
            "\n",
            "The Spanish translation of 'yes' is 'sí'.\n",
            "\n",
            "The Spanish translation of '' is 'Translation not available.'.\n",
            "\n",
            "The Spanish translation of '' is 'Translation not available.'.\n",
            "\n",
            "The Spanish translation of '' is 'Translation not available.'.\n",
            "\n",
            "The Spanish translation of '' is 'Translation not available.'.\n",
            "\n",
            "The Spanish translation of '' is 'Translation not available.'.\n",
            "\n",
            "The Spanish translation of '' is 'Translation not available.'.\n",
            "\n",
            "The Spanish translation of '' is 'Translation not available.'.\n",
            "\n",
            "The Spanish translation of '' is 'Translation not available.'.\n",
            "\n",
            "The Spanish translation of '' is 'Translation not available.'.\n",
            "\n",
            "The Spanish translation of '' is 'Translation not available.'.\n",
            "\n",
            "The Spanish translation of '' is 'Translation not available.'.\n",
            "\n",
            "The Spanish translation of '' is 'Translation not available.'.\n",
            "\n",
            "The Spanish translation of '' is 'Translation not available.'.\n",
            "\n",
            "The Spanish translation of '' is 'Translation not available.'.\n",
            "\n",
            "The Spanish translation of '' is 'Translation not available.'.\n",
            "\n",
            "The Spanish translation of '' is 'Translation not available.'.\n",
            "\n"
          ]
        }
      ],
      "source": [
        "#code here\n",
        "dictionary = {\n",
        "    'hello': 'hola',\n",
        "    'thank you': 'gracias',\n",
        "    'please': 'por favor',\n",
        "    'yes': 'sí',\n",
        "    'no': 'no',\n",
        "}\n",
        "\n",
        "def lookup_translation(w):\n",
        "    if w in dictionary:\n",
        "        return dictionary[w]\n",
        "    else:\n",
        "        return 'Translation not available.'\n",
        "\n",
        "while True:\n",
        "    ch = input(\"Enter an English word to look up its Spanish translation (type 'q' to quit): \").lower()\n",
        "\n",
        "    if ch == 'q':\n",
        "        break\n",
        "\n",
        "    translation = lookup_translation(ch)\n",
        "    print(f\"The Spanish translation of '{ch}' is '{translation}'.\\n\")\n"
      ]
    },
    {
      "cell_type": "markdown",
      "metadata": {
        "id": "h_8wOMWitspv"
      },
      "source": [
        "# Lab Task 07"
      ]
    },
    {
      "cell_type": "markdown",
      "metadata": {
        "id": "Qq4VH1Jkts32"
      },
      "source": [
        "dataset link : https://raw.githubusercontent.com/TirendazAcademy/PANDAS-TUTORIAL/main/DataSets/vgsalesGlobale.csv\n",
        "#Exercise\n",
        "Use the dataset of Game, we have explored earlier and perform following operations.\n",
        "\n",
        "* Calculate the total global sales for all games in the dataset.\n",
        "* Find the game with the highest global sales.\n",
        "* Determine the average sales for each region (NA_Sales, EU_Sales, JP_Sales, Other_Sales).\n",
        "* Find the top 5 most popular game genres based on global sales.\n",
        "* Calculate the total sales for each genre in each region and find the most popular genre in North America (NA_Sales).\n",
        "* Display last 10 rows.\n",
        "* Determine the top 3 gaming platforms with the highest global sales.\n",
        "* Calculate the market share (percentage of global sales) for each genre.\n",
        "* Calculate the correlation coefficient between NA_Sales and EU_Sales. (.corr function)"
      ]
    },
    {
      "cell_type": "code",
      "execution_count": 37,
      "metadata": {},
      "outputs": [
        {
          "data": {
            "text/html": [
              "<div>\n",
              "<style scoped>\n",
              "    .dataframe tbody tr th:only-of-type {\n",
              "        vertical-align: middle;\n",
              "    }\n",
              "\n",
              "    .dataframe tbody tr th {\n",
              "        vertical-align: top;\n",
              "    }\n",
              "\n",
              "    .dataframe thead th {\n",
              "        text-align: right;\n",
              "    }\n",
              "</style>\n",
              "<table border=\"1\" class=\"dataframe\">\n",
              "  <thead>\n",
              "    <tr style=\"text-align: right;\">\n",
              "      <th></th>\n",
              "      <th>Rank</th>\n",
              "      <th>Name</th>\n",
              "      <th>Platform</th>\n",
              "      <th>Year</th>\n",
              "      <th>Genre</th>\n",
              "      <th>Publisher</th>\n",
              "      <th>NA_Sales</th>\n",
              "      <th>EU_Sales</th>\n",
              "      <th>JP_Sales</th>\n",
              "      <th>Other_Sales</th>\n",
              "      <th>Global_Sales</th>\n",
              "    </tr>\n",
              "  </thead>\n",
              "  <tbody>\n",
              "    <tr>\n",
              "      <th>0</th>\n",
              "      <td>1</td>\n",
              "      <td>Wii Sports</td>\n",
              "      <td>Wii</td>\n",
              "      <td>2006.0</td>\n",
              "      <td>Sports</td>\n",
              "      <td>Nintendo</td>\n",
              "      <td>41.49</td>\n",
              "      <td>29.02</td>\n",
              "      <td>3.77</td>\n",
              "      <td>8.46</td>\n",
              "      <td>82.74</td>\n",
              "    </tr>\n",
              "    <tr>\n",
              "      <th>1</th>\n",
              "      <td>2</td>\n",
              "      <td>Super Mario Bros.</td>\n",
              "      <td>NES</td>\n",
              "      <td>1985.0</td>\n",
              "      <td>Platform</td>\n",
              "      <td>Nintendo</td>\n",
              "      <td>29.08</td>\n",
              "      <td>3.58</td>\n",
              "      <td>6.81</td>\n",
              "      <td>0.77</td>\n",
              "      <td>40.24</td>\n",
              "    </tr>\n",
              "    <tr>\n",
              "      <th>2</th>\n",
              "      <td>3</td>\n",
              "      <td>Mario Kart Wii</td>\n",
              "      <td>Wii</td>\n",
              "      <td>2008.0</td>\n",
              "      <td>Racing</td>\n",
              "      <td>Nintendo</td>\n",
              "      <td>15.85</td>\n",
              "      <td>12.88</td>\n",
              "      <td>3.79</td>\n",
              "      <td>3.31</td>\n",
              "      <td>35.82</td>\n",
              "    </tr>\n",
              "    <tr>\n",
              "      <th>3</th>\n",
              "      <td>4</td>\n",
              "      <td>Wii Sports Resort</td>\n",
              "      <td>Wii</td>\n",
              "      <td>2009.0</td>\n",
              "      <td>Sports</td>\n",
              "      <td>Nintendo</td>\n",
              "      <td>15.75</td>\n",
              "      <td>11.01</td>\n",
              "      <td>3.28</td>\n",
              "      <td>2.96</td>\n",
              "      <td>33.00</td>\n",
              "    </tr>\n",
              "    <tr>\n",
              "      <th>4</th>\n",
              "      <td>5</td>\n",
              "      <td>Pokemon Red/Pokemon Blue</td>\n",
              "      <td>GB</td>\n",
              "      <td>1996.0</td>\n",
              "      <td>Role-Playing</td>\n",
              "      <td>Nintendo</td>\n",
              "      <td>11.27</td>\n",
              "      <td>8.89</td>\n",
              "      <td>10.22</td>\n",
              "      <td>1.00</td>\n",
              "      <td>31.37</td>\n",
              "    </tr>\n",
              "    <tr>\n",
              "      <th>...</th>\n",
              "      <td>...</td>\n",
              "      <td>...</td>\n",
              "      <td>...</td>\n",
              "      <td>...</td>\n",
              "      <td>...</td>\n",
              "      <td>...</td>\n",
              "      <td>...</td>\n",
              "      <td>...</td>\n",
              "      <td>...</td>\n",
              "      <td>...</td>\n",
              "      <td>...</td>\n",
              "    </tr>\n",
              "    <tr>\n",
              "      <th>16593</th>\n",
              "      <td>16596</td>\n",
              "      <td>Woody Woodpecker in Crazy Castle 5</td>\n",
              "      <td>GBA</td>\n",
              "      <td>2002.0</td>\n",
              "      <td>Platform</td>\n",
              "      <td>Kemco</td>\n",
              "      <td>0.01</td>\n",
              "      <td>0.00</td>\n",
              "      <td>0.00</td>\n",
              "      <td>0.00</td>\n",
              "      <td>0.01</td>\n",
              "    </tr>\n",
              "    <tr>\n",
              "      <th>16594</th>\n",
              "      <td>16597</td>\n",
              "      <td>Men in Black II: Alien Escape</td>\n",
              "      <td>GC</td>\n",
              "      <td>2003.0</td>\n",
              "      <td>Shooter</td>\n",
              "      <td>Infogrames</td>\n",
              "      <td>0.01</td>\n",
              "      <td>0.00</td>\n",
              "      <td>0.00</td>\n",
              "      <td>0.00</td>\n",
              "      <td>0.01</td>\n",
              "    </tr>\n",
              "    <tr>\n",
              "      <th>16595</th>\n",
              "      <td>16598</td>\n",
              "      <td>SCORE International Baja 1000: The Official Game</td>\n",
              "      <td>PS2</td>\n",
              "      <td>2008.0</td>\n",
              "      <td>Racing</td>\n",
              "      <td>Activision</td>\n",
              "      <td>0.00</td>\n",
              "      <td>0.00</td>\n",
              "      <td>0.00</td>\n",
              "      <td>0.00</td>\n",
              "      <td>0.01</td>\n",
              "    </tr>\n",
              "    <tr>\n",
              "      <th>16596</th>\n",
              "      <td>16599</td>\n",
              "      <td>Know How 2</td>\n",
              "      <td>DS</td>\n",
              "      <td>2010.0</td>\n",
              "      <td>Puzzle</td>\n",
              "      <td>7G//AMES</td>\n",
              "      <td>0.00</td>\n",
              "      <td>0.01</td>\n",
              "      <td>0.00</td>\n",
              "      <td>0.00</td>\n",
              "      <td>0.01</td>\n",
              "    </tr>\n",
              "    <tr>\n",
              "      <th>16597</th>\n",
              "      <td>16600</td>\n",
              "      <td>Spirits &amp; Spells</td>\n",
              "      <td>GBA</td>\n",
              "      <td>2003.0</td>\n",
              "      <td>Platform</td>\n",
              "      <td>Wanadoo</td>\n",
              "      <td>0.01</td>\n",
              "      <td>0.00</td>\n",
              "      <td>0.00</td>\n",
              "      <td>0.00</td>\n",
              "      <td>0.01</td>\n",
              "    </tr>\n",
              "  </tbody>\n",
              "</table>\n",
              "<p>16598 rows × 11 columns</p>\n",
              "</div>"
            ],
            "text/plain": [
              "        Rank                                              Name Platform  \\\n",
              "0          1                                        Wii Sports      Wii   \n",
              "1          2                                 Super Mario Bros.      NES   \n",
              "2          3                                    Mario Kart Wii      Wii   \n",
              "3          4                                 Wii Sports Resort      Wii   \n",
              "4          5                          Pokemon Red/Pokemon Blue       GB   \n",
              "...      ...                                               ...      ...   \n",
              "16593  16596                Woody Woodpecker in Crazy Castle 5      GBA   \n",
              "16594  16597                     Men in Black II: Alien Escape       GC   \n",
              "16595  16598  SCORE International Baja 1000: The Official Game      PS2   \n",
              "16596  16599                                        Know How 2       DS   \n",
              "16597  16600                                  Spirits & Spells      GBA   \n",
              "\n",
              "         Year         Genre   Publisher  NA_Sales  EU_Sales  JP_Sales  \\\n",
              "0      2006.0        Sports    Nintendo     41.49     29.02      3.77   \n",
              "1      1985.0      Platform    Nintendo     29.08      3.58      6.81   \n",
              "2      2008.0        Racing    Nintendo     15.85     12.88      3.79   \n",
              "3      2009.0        Sports    Nintendo     15.75     11.01      3.28   \n",
              "4      1996.0  Role-Playing    Nintendo     11.27      8.89     10.22   \n",
              "...       ...           ...         ...       ...       ...       ...   \n",
              "16593  2002.0      Platform       Kemco      0.01      0.00      0.00   \n",
              "16594  2003.0       Shooter  Infogrames      0.01      0.00      0.00   \n",
              "16595  2008.0        Racing  Activision      0.00      0.00      0.00   \n",
              "16596  2010.0        Puzzle    7G//AMES      0.00      0.01      0.00   \n",
              "16597  2003.0      Platform     Wanadoo      0.01      0.00      0.00   \n",
              "\n",
              "       Other_Sales  Global_Sales  \n",
              "0             8.46         82.74  \n",
              "1             0.77         40.24  \n",
              "2             3.31         35.82  \n",
              "3             2.96         33.00  \n",
              "4             1.00         31.37  \n",
              "...            ...           ...  \n",
              "16593         0.00          0.01  \n",
              "16594         0.00          0.01  \n",
              "16595         0.00          0.01  \n",
              "16596         0.00          0.01  \n",
              "16597         0.00          0.01  \n",
              "\n",
              "[16598 rows x 11 columns]"
            ]
          },
          "execution_count": 37,
          "metadata": {},
          "output_type": "execute_result"
        }
      ],
      "source": [
        "import pandas as pd\n",
        "\n",
        "data = pd.read_csv('https://raw.githubusercontent.com/TirendazAcademy/PANDAS-TUTORIAL/main/DataSets/vgsalesGlobale.csv')\n",
        "\n",
        "data"
      ]
    },
    {
      "cell_type": "code",
      "execution_count": 39,
      "metadata": {},
      "outputs": [
        {
          "data": {
            "text/plain": [
              "8920.44"
            ]
          },
          "execution_count": 39,
          "metadata": {},
          "output_type": "execute_result"
        }
      ],
      "source": [
        "df = data['Global_Sales'].sum()\n",
        "df"
      ]
    },
    {
      "cell_type": "code",
      "execution_count": 43,
      "metadata": {},
      "outputs": [
        {
          "data": {
            "text/plain": [
              "Rank                     1\n",
              "Name            Wii Sports\n",
              "Platform               Wii\n",
              "Year                2006.0\n",
              "Genre               Sports\n",
              "Publisher         Nintendo\n",
              "NA_Sales             41.49\n",
              "EU_Sales             29.02\n",
              "JP_Sales              3.77\n",
              "Other_Sales           8.46\n",
              "Global_Sales         82.74\n",
              "Name: 0, dtype: object"
            ]
          },
          "execution_count": 43,
          "metadata": {},
          "output_type": "execute_result"
        }
      ],
      "source": [
        "data.loc[data['Global_Sales'].idxmax()]"
      ]
    },
    {
      "cell_type": "code",
      "execution_count": 44,
      "metadata": {},
      "outputs": [
        {
          "data": {
            "text/plain": [
              "NA_Sales       0.264667\n",
              "EU_Sales       0.146652\n",
              "JP_Sales       0.077782\n",
              "Other_Sales    0.048063\n",
              "dtype: float64"
            ]
          },
          "execution_count": 44,
          "metadata": {},
          "output_type": "execute_result"
        }
      ],
      "source": [
        "data[['NA_Sales', 'EU_Sales', 'JP_Sales', 'Other_Sales']].mean()"
      ]
    },
    {
      "cell_type": "code",
      "execution_count": 45,
      "metadata": {},
      "outputs": [
        {
          "data": {
            "text/plain": [
              "Genre\n",
              "Action          1751.18\n",
              "Sports          1330.93\n",
              "Shooter         1037.37\n",
              "Role-Playing     927.37\n",
              "Platform         831.37\n",
              "Name: Global_Sales, dtype: float64"
            ]
          },
          "execution_count": 45,
          "metadata": {},
          "output_type": "execute_result"
        }
      ],
      "source": [
        "data.groupby('Genre')['Global_Sales'].sum().nlargest(5)"
      ]
    },
    {
      "cell_type": "code",
      "execution_count": 46,
      "metadata": {},
      "outputs": [
        {
          "data": {
            "text/html": [
              "<div>\n",
              "<style scoped>\n",
              "    .dataframe tbody tr th:only-of-type {\n",
              "        vertical-align: middle;\n",
              "    }\n",
              "\n",
              "    .dataframe tbody tr th {\n",
              "        vertical-align: top;\n",
              "    }\n",
              "\n",
              "    .dataframe thead th {\n",
              "        text-align: right;\n",
              "    }\n",
              "</style>\n",
              "<table border=\"1\" class=\"dataframe\">\n",
              "  <thead>\n",
              "    <tr style=\"text-align: right;\">\n",
              "      <th></th>\n",
              "      <th>NA_Sales</th>\n",
              "      <th>EU_Sales</th>\n",
              "      <th>JP_Sales</th>\n",
              "      <th>Other_Sales</th>\n",
              "    </tr>\n",
              "    <tr>\n",
              "      <th>Genre</th>\n",
              "      <th></th>\n",
              "      <th></th>\n",
              "      <th></th>\n",
              "      <th></th>\n",
              "    </tr>\n",
              "  </thead>\n",
              "  <tbody>\n",
              "    <tr>\n",
              "      <th>Action</th>\n",
              "      <td>877.83</td>\n",
              "      <td>525.00</td>\n",
              "      <td>159.95</td>\n",
              "      <td>187.38</td>\n",
              "    </tr>\n",
              "    <tr>\n",
              "      <th>Adventure</th>\n",
              "      <td>105.80</td>\n",
              "      <td>64.13</td>\n",
              "      <td>52.07</td>\n",
              "      <td>16.81</td>\n",
              "    </tr>\n",
              "    <tr>\n",
              "      <th>Fighting</th>\n",
              "      <td>223.59</td>\n",
              "      <td>101.32</td>\n",
              "      <td>87.35</td>\n",
              "      <td>36.68</td>\n",
              "    </tr>\n",
              "    <tr>\n",
              "      <th>Misc</th>\n",
              "      <td>410.24</td>\n",
              "      <td>215.98</td>\n",
              "      <td>107.76</td>\n",
              "      <td>75.32</td>\n",
              "    </tr>\n",
              "    <tr>\n",
              "      <th>Platform</th>\n",
              "      <td>447.05</td>\n",
              "      <td>201.63</td>\n",
              "      <td>130.77</td>\n",
              "      <td>51.59</td>\n",
              "    </tr>\n",
              "    <tr>\n",
              "      <th>Puzzle</th>\n",
              "      <td>123.78</td>\n",
              "      <td>50.78</td>\n",
              "      <td>57.31</td>\n",
              "      <td>12.55</td>\n",
              "    </tr>\n",
              "    <tr>\n",
              "      <th>Racing</th>\n",
              "      <td>359.42</td>\n",
              "      <td>238.39</td>\n",
              "      <td>56.69</td>\n",
              "      <td>77.27</td>\n",
              "    </tr>\n",
              "    <tr>\n",
              "      <th>Role-Playing</th>\n",
              "      <td>327.28</td>\n",
              "      <td>188.06</td>\n",
              "      <td>352.31</td>\n",
              "      <td>59.61</td>\n",
              "    </tr>\n",
              "    <tr>\n",
              "      <th>Shooter</th>\n",
              "      <td>582.60</td>\n",
              "      <td>313.27</td>\n",
              "      <td>38.28</td>\n",
              "      <td>102.69</td>\n",
              "    </tr>\n",
              "    <tr>\n",
              "      <th>Simulation</th>\n",
              "      <td>183.31</td>\n",
              "      <td>113.38</td>\n",
              "      <td>63.70</td>\n",
              "      <td>31.52</td>\n",
              "    </tr>\n",
              "    <tr>\n",
              "      <th>Sports</th>\n",
              "      <td>683.35</td>\n",
              "      <td>376.85</td>\n",
              "      <td>135.37</td>\n",
              "      <td>134.97</td>\n",
              "    </tr>\n",
              "    <tr>\n",
              "      <th>Strategy</th>\n",
              "      <td>68.70</td>\n",
              "      <td>45.34</td>\n",
              "      <td>49.46</td>\n",
              "      <td>11.36</td>\n",
              "    </tr>\n",
              "  </tbody>\n",
              "</table>\n",
              "</div>"
            ],
            "text/plain": [
              "              NA_Sales  EU_Sales  JP_Sales  Other_Sales\n",
              "Genre                                                  \n",
              "Action          877.83    525.00    159.95       187.38\n",
              "Adventure       105.80     64.13     52.07        16.81\n",
              "Fighting        223.59    101.32     87.35        36.68\n",
              "Misc            410.24    215.98    107.76        75.32\n",
              "Platform        447.05    201.63    130.77        51.59\n",
              "Puzzle          123.78     50.78     57.31        12.55\n",
              "Racing          359.42    238.39     56.69        77.27\n",
              "Role-Playing    327.28    188.06    352.31        59.61\n",
              "Shooter         582.60    313.27     38.28       102.69\n",
              "Simulation      183.31    113.38     63.70        31.52\n",
              "Sports          683.35    376.85    135.37       134.97\n",
              "Strategy         68.70     45.34     49.46        11.36"
            ]
          },
          "execution_count": 46,
          "metadata": {},
          "output_type": "execute_result"
        }
      ],
      "source": [
        "data.groupby('Genre')[['NA_Sales', 'EU_Sales', 'JP_Sales', 'Other_Sales']].sum()"
      ]
    },
    {
      "cell_type": "code",
      "execution_count": 47,
      "metadata": {},
      "outputs": [
        {
          "data": {
            "text/html": [
              "<div>\n",
              "<style scoped>\n",
              "    .dataframe tbody tr th:only-of-type {\n",
              "        vertical-align: middle;\n",
              "    }\n",
              "\n",
              "    .dataframe tbody tr th {\n",
              "        vertical-align: top;\n",
              "    }\n",
              "\n",
              "    .dataframe thead th {\n",
              "        text-align: right;\n",
              "    }\n",
              "</style>\n",
              "<table border=\"1\" class=\"dataframe\">\n",
              "  <thead>\n",
              "    <tr style=\"text-align: right;\">\n",
              "      <th></th>\n",
              "      <th>Rank</th>\n",
              "      <th>Name</th>\n",
              "      <th>Platform</th>\n",
              "      <th>Year</th>\n",
              "      <th>Genre</th>\n",
              "      <th>Publisher</th>\n",
              "      <th>NA_Sales</th>\n",
              "      <th>EU_Sales</th>\n",
              "      <th>JP_Sales</th>\n",
              "      <th>Other_Sales</th>\n",
              "      <th>Global_Sales</th>\n",
              "    </tr>\n",
              "  </thead>\n",
              "  <tbody>\n",
              "    <tr>\n",
              "      <th>16588</th>\n",
              "      <td>16591</td>\n",
              "      <td>Mega Brain Boost</td>\n",
              "      <td>DS</td>\n",
              "      <td>2008.0</td>\n",
              "      <td>Puzzle</td>\n",
              "      <td>Majesco Entertainment</td>\n",
              "      <td>0.01</td>\n",
              "      <td>0.00</td>\n",
              "      <td>0.00</td>\n",
              "      <td>0.0</td>\n",
              "      <td>0.01</td>\n",
              "    </tr>\n",
              "    <tr>\n",
              "      <th>16589</th>\n",
              "      <td>16592</td>\n",
              "      <td>Chou Ezaru wa Akai Hana: Koi wa Tsuki ni Shiru...</td>\n",
              "      <td>PSV</td>\n",
              "      <td>2016.0</td>\n",
              "      <td>Action</td>\n",
              "      <td>dramatic create</td>\n",
              "      <td>0.00</td>\n",
              "      <td>0.00</td>\n",
              "      <td>0.01</td>\n",
              "      <td>0.0</td>\n",
              "      <td>0.01</td>\n",
              "    </tr>\n",
              "    <tr>\n",
              "      <th>16590</th>\n",
              "      <td>16593</td>\n",
              "      <td>Eiyuu Densetsu: Sora no Kiseki Material Collec...</td>\n",
              "      <td>PSP</td>\n",
              "      <td>2007.0</td>\n",
              "      <td>Role-Playing</td>\n",
              "      <td>Falcom Corporation</td>\n",
              "      <td>0.00</td>\n",
              "      <td>0.00</td>\n",
              "      <td>0.01</td>\n",
              "      <td>0.0</td>\n",
              "      <td>0.01</td>\n",
              "    </tr>\n",
              "    <tr>\n",
              "      <th>16591</th>\n",
              "      <td>16594</td>\n",
              "      <td>Myst IV: Revelation</td>\n",
              "      <td>PC</td>\n",
              "      <td>2004.0</td>\n",
              "      <td>Adventure</td>\n",
              "      <td>Ubisoft</td>\n",
              "      <td>0.01</td>\n",
              "      <td>0.00</td>\n",
              "      <td>0.00</td>\n",
              "      <td>0.0</td>\n",
              "      <td>0.01</td>\n",
              "    </tr>\n",
              "    <tr>\n",
              "      <th>16592</th>\n",
              "      <td>16595</td>\n",
              "      <td>Plushees</td>\n",
              "      <td>DS</td>\n",
              "      <td>2008.0</td>\n",
              "      <td>Simulation</td>\n",
              "      <td>Destineer</td>\n",
              "      <td>0.01</td>\n",
              "      <td>0.00</td>\n",
              "      <td>0.00</td>\n",
              "      <td>0.0</td>\n",
              "      <td>0.01</td>\n",
              "    </tr>\n",
              "    <tr>\n",
              "      <th>16593</th>\n",
              "      <td>16596</td>\n",
              "      <td>Woody Woodpecker in Crazy Castle 5</td>\n",
              "      <td>GBA</td>\n",
              "      <td>2002.0</td>\n",
              "      <td>Platform</td>\n",
              "      <td>Kemco</td>\n",
              "      <td>0.01</td>\n",
              "      <td>0.00</td>\n",
              "      <td>0.00</td>\n",
              "      <td>0.0</td>\n",
              "      <td>0.01</td>\n",
              "    </tr>\n",
              "    <tr>\n",
              "      <th>16594</th>\n",
              "      <td>16597</td>\n",
              "      <td>Men in Black II: Alien Escape</td>\n",
              "      <td>GC</td>\n",
              "      <td>2003.0</td>\n",
              "      <td>Shooter</td>\n",
              "      <td>Infogrames</td>\n",
              "      <td>0.01</td>\n",
              "      <td>0.00</td>\n",
              "      <td>0.00</td>\n",
              "      <td>0.0</td>\n",
              "      <td>0.01</td>\n",
              "    </tr>\n",
              "    <tr>\n",
              "      <th>16595</th>\n",
              "      <td>16598</td>\n",
              "      <td>SCORE International Baja 1000: The Official Game</td>\n",
              "      <td>PS2</td>\n",
              "      <td>2008.0</td>\n",
              "      <td>Racing</td>\n",
              "      <td>Activision</td>\n",
              "      <td>0.00</td>\n",
              "      <td>0.00</td>\n",
              "      <td>0.00</td>\n",
              "      <td>0.0</td>\n",
              "      <td>0.01</td>\n",
              "    </tr>\n",
              "    <tr>\n",
              "      <th>16596</th>\n",
              "      <td>16599</td>\n",
              "      <td>Know How 2</td>\n",
              "      <td>DS</td>\n",
              "      <td>2010.0</td>\n",
              "      <td>Puzzle</td>\n",
              "      <td>7G//AMES</td>\n",
              "      <td>0.00</td>\n",
              "      <td>0.01</td>\n",
              "      <td>0.00</td>\n",
              "      <td>0.0</td>\n",
              "      <td>0.01</td>\n",
              "    </tr>\n",
              "    <tr>\n",
              "      <th>16597</th>\n",
              "      <td>16600</td>\n",
              "      <td>Spirits &amp; Spells</td>\n",
              "      <td>GBA</td>\n",
              "      <td>2003.0</td>\n",
              "      <td>Platform</td>\n",
              "      <td>Wanadoo</td>\n",
              "      <td>0.01</td>\n",
              "      <td>0.00</td>\n",
              "      <td>0.00</td>\n",
              "      <td>0.0</td>\n",
              "      <td>0.01</td>\n",
              "    </tr>\n",
              "  </tbody>\n",
              "</table>\n",
              "</div>"
            ],
            "text/plain": [
              "        Rank                                               Name Platform  \\\n",
              "16588  16591                                   Mega Brain Boost       DS   \n",
              "16589  16592  Chou Ezaru wa Akai Hana: Koi wa Tsuki ni Shiru...      PSV   \n",
              "16590  16593  Eiyuu Densetsu: Sora no Kiseki Material Collec...      PSP   \n",
              "16591  16594                                Myst IV: Revelation       PC   \n",
              "16592  16595                                           Plushees       DS   \n",
              "16593  16596                 Woody Woodpecker in Crazy Castle 5      GBA   \n",
              "16594  16597                      Men in Black II: Alien Escape       GC   \n",
              "16595  16598   SCORE International Baja 1000: The Official Game      PS2   \n",
              "16596  16599                                         Know How 2       DS   \n",
              "16597  16600                                   Spirits & Spells      GBA   \n",
              "\n",
              "         Year         Genre              Publisher  NA_Sales  EU_Sales  \\\n",
              "16588  2008.0        Puzzle  Majesco Entertainment      0.01      0.00   \n",
              "16589  2016.0        Action        dramatic create      0.00      0.00   \n",
              "16590  2007.0  Role-Playing     Falcom Corporation      0.00      0.00   \n",
              "16591  2004.0     Adventure                Ubisoft      0.01      0.00   \n",
              "16592  2008.0    Simulation              Destineer      0.01      0.00   \n",
              "16593  2002.0      Platform                  Kemco      0.01      0.00   \n",
              "16594  2003.0       Shooter             Infogrames      0.01      0.00   \n",
              "16595  2008.0        Racing             Activision      0.00      0.00   \n",
              "16596  2010.0        Puzzle               7G//AMES      0.00      0.01   \n",
              "16597  2003.0      Platform                Wanadoo      0.01      0.00   \n",
              "\n",
              "       JP_Sales  Other_Sales  Global_Sales  \n",
              "16588      0.00          0.0          0.01  \n",
              "16589      0.01          0.0          0.01  \n",
              "16590      0.01          0.0          0.01  \n",
              "16591      0.00          0.0          0.01  \n",
              "16592      0.00          0.0          0.01  \n",
              "16593      0.00          0.0          0.01  \n",
              "16594      0.00          0.0          0.01  \n",
              "16595      0.00          0.0          0.01  \n",
              "16596      0.00          0.0          0.01  \n",
              "16597      0.00          0.0          0.01  "
            ]
          },
          "execution_count": 47,
          "metadata": {},
          "output_type": "execute_result"
        }
      ],
      "source": [
        "data.tail(10)"
      ]
    },
    {
      "cell_type": "code",
      "execution_count": 48,
      "metadata": {},
      "outputs": [
        {
          "data": {
            "text/plain": [
              "Platform\n",
              "PS2     1255.64\n",
              "X360     979.96\n",
              "PS3      957.84\n",
              "Name: Global_Sales, dtype: float64"
            ]
          },
          "execution_count": 48,
          "metadata": {},
          "output_type": "execute_result"
        }
      ],
      "source": [
        "data.groupby('Platform')['Global_Sales'].sum().nlargest(3)"
      ]
    },
    {
      "cell_type": "code",
      "execution_count": 51,
      "metadata": {},
      "outputs": [
        {
          "data": {
            "text/plain": [
              "Genre\n",
              "Action          19.631094\n",
              "Adventure        2.679688\n",
              "Fighting         5.032375\n",
              "Misc             9.079821\n",
              "Platform         9.319832\n",
              "Puzzle           2.745941\n",
              "Racing           8.206322\n",
              "Role-Playing    10.396012\n",
              "Shooter         11.629135\n",
              "Simulation       4.396644\n",
              "Sports          14.920004\n",
              "Strategy         1.963132\n",
              "Name: Global_Sales, dtype: float64"
            ]
          },
          "execution_count": 51,
          "metadata": {},
          "output_type": "execute_result"
        }
      ],
      "source": [
        "(data.groupby('Genre')['Global_Sales'].sum() / df) * 100"
      ]
    },
    {
      "cell_type": "code",
      "execution_count": 53,
      "metadata": {},
      "outputs": [
        {
          "data": {
            "text/plain": [
              "0.767726748370264"
            ]
          },
          "execution_count": 53,
          "metadata": {},
          "output_type": "execute_result"
        }
      ],
      "source": [
        "data['NA_Sales'].corr(data['EU_Sales'])"
      ]
    }
  ],
  "metadata": {
    "colab": {
      "provenance": []
    },
    "kernelspec": {
      "display_name": "Python 3",
      "name": "python3"
    },
    "language_info": {
      "codemirror_mode": {
        "name": "ipython",
        "version": 3
      },
      "file_extension": ".py",
      "mimetype": "text/x-python",
      "name": "python",
      "nbconvert_exporter": "python",
      "pygments_lexer": "ipython3",
      "version": "3.11.8"
    }
  },
  "nbformat": 4,
  "nbformat_minor": 0
}
